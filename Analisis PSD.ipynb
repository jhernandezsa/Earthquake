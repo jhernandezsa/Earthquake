{
 "cells": [
  {
   "cell_type": "markdown",
   "metadata": {},
   "source": [
    "# Propuesta de obtener parametros a partir del estudio del PSD:\n",
    "\n",
    "En este archivo muestro solo el analisis del 'power spectrum density' (PSD). Inspirado en este link:\n",
    "http://ataspinar.com/2018/04/04/machine-learning-with-signal-processing-techniques/\n",
    "\n",
    "En esta notebook, solo se sacan 3 señales, al principio (signal_1) en la mitad (signal_2) y al final (signal_3) todas del penultimo ciclo (o llamado en los articulos window), el ciclo 15.\n",
    "\n",
    "Luego parto la señal, y se ve como varian los PSD de 36 segmentos de la señal. \n",
    "\n",
    "Al final la conclusión. "
   ]
  },
  {
   "cell_type": "markdown",
   "metadata": {},
   "source": [
    "train.cvs esta en la misma carpeta!\n",
    "\n",
    "Inicialización de librerias:\n"
   ]
  },
  {
   "cell_type": "code",
   "execution_count": 1,
   "metadata": {},
   "outputs": [
    {
     "name": "stdout",
     "output_type": "stream",
     "text": [
      "['.ipynb_checkpoints', '01 Analisis -Copy1.ipynb', '01 Analisis .ipynb', '02 Analisis.ipynb', '04 Analisis.ipynb', '1 model.ipynb', '3 Analisis.ipynb', 'Analisis PSD.ipynb', 'Fase Final.ipynb', 'Prueba', 'sample_submission.csv', 'submission.csv', 'test', 'train.csv']\n"
     ]
    }
   ],
   "source": [
    "import dask\n",
    "import dask.dataframe as dd\n",
    "import numpy as np\n",
    "import pandas as pd\n",
    "import os\n",
    "import matplotlib.pyplot as plt\n",
    "import scipy as sp\n",
    "from tsfresh.feature_extraction import feature_calculators\n",
    "from scipy import signal\n",
    "\n",
    "import os\n",
    "print(os.listdir(\"./\"))\n",
    "\n",
    "# In most cases, is the number of sampled signal to define the time to failure of the signal\n",
    "number_set0 = 4096 \n",
    "#150_000 is the number of the sample of each test, so is make up of appproximatly 36 steps of signals\n",
    "number_sample = 36 \n"
   ]
  },
  {
   "cell_type": "markdown",
   "metadata": {},
   "source": [
    "##The data is recorded in bins of 4096 samples. \n",
    "<p style=\"color:red;\"> ## Question is len(df['acoustic'])/150000 should be 4096? </p>\n",
    "<p style=\"color:red;\">\n",
    "<p style=\"color:red;\">##SAMPLING FREQUENCY HAS ANY USE?</p>\n",
    "\n",
    "Funciones para estudiar \"Power spectrum density\":\n",
    "Reusadas de algún kernel en kagel:"
   ]
  },
  {
   "cell_type": "code",
   "execution_count": 2,
   "metadata": {},
   "outputs": [],
   "source": [
    "#Definition of functions, to get the common features, and related to the spectrum shape.\n",
    "\n",
    "sampling_frequency = 4e6\n",
    "\n",
    "def get_spectrum(input_signal):\n",
    "    \"\"\"\n",
    "    Get a pandas Series with the fourier power spectum for a given signal segment.\n",
    "    \"\"\"\n",
    "    input_signal = np.asarray(input_signal.values, dtype='float64')\n",
    "    \n",
    "    # Remove the mean  \n",
    "    input_signal -= input_signal.mean()  \n",
    "    \n",
    "    # Estimate power spectral density using a periodogram.\n",
    "    frequencies , power_spectrum = signal.periodogram(input_signal, sampling_frequency, scaling='spectrum')    \n",
    "    \n",
    "    # Run a running windows average of 10-points to smooth the signal.\n",
    "    power_spectrum = pd.Series(power_spectrum, index=frequencies).rolling(window=10).mean()        \n",
    "    \n",
    "    return pd.Series(power_spectrum)\n",
    "\n",
    "def get_segment_spectrum(segment_df):\n",
    "    \"\"\"\n",
    "    Get the fourier power spectrum of a given segment.\n",
    "    \n",
    "    Returns the quake_time, frequencies, and power_spectrum\n",
    "    \"\"\"\n",
    "    \n",
    "    quake_time =segment_df['time_to_failure'].values[-1]\n",
    "    \n",
    "    _power_spectrum = get_spectrum(segment_df['acoustic_data']).dropna() \n",
    "    \n",
    "    # Keep only frequencies < 450khz (larger frequencies have a negligible contribution).\n",
    "    _power_spectrum = _power_spectrum[_power_spectrum.index<450_000]\n",
    "    \n",
    "    # Keep one every 10 samples\n",
    "    power_spectrum=_power_spectrum.values[::5]\n",
    "    frequencies=_power_spectrum.index.values[::5]    \n",
    "    \n",
    "    return quake_time, frequencies, power_spectrum\n"
   ]
  },
  {
   "cell_type": "markdown",
   "metadata": {},
   "source": [
    "Acá se define el reader, para leer por iteraciones el archivo, pues es muy grande. \n",
    "Y el tamaño por cada iteracion \"number_load_data\"\n",
    "\n",
    "<p style=\"color:red;\"> De donde salen los 16 ciclos (windows), son los 16 earthquakes?</p>\n"
   ]
  },
  {
   "cell_type": "code",
   "execution_count": 3,
   "metadata": {},
   "outputs": [
    {
     "name": "stdout",
     "output_type": "stream",
     "text": [
      "Wall time: 35.9 ms\n"
     ]
    }
   ],
   "source": [
    "%%time\n",
    "reader = pd.read_csv(\"./train.csv\", dtype={'acoustic_data': np.int16, 'time_to_failure': np.float32}, iterator=True)\n",
    "number_load_data = number_set0*20000\n",
    "#There are 16 cycles in training data. then it is explored signals in the three following cycles\n",
    "cycles_to_save = [1,7,15] \n",
    "#data = reader.get_chunk(number_load_data)\n",
    "#Flag to finish the while in all the file\n",
    "flag_done_load = 1 \n",
    "#first cycle\n",
    "cycle = 0\n",
    "#to continue in next load of the file\n",
    "last_cycle = 0"
   ]
  },
  {
   "cell_type": "markdown",
   "metadata": {},
   "source": [
    "En la siguinte se lee todo el archivo por partes, se salvan algunos fragmentos de los ciclos en 'cycles_to_save'. Aunque al final solo salva lo del ciclo 15. solo se sacan 3 señales, al principio (signal_1) en la mitad (signal_2) y al final (signal_3) todas del penultimo ciclo (o llamado en los articulos window), el ciclo 15."
   ]
  },
  {
   "cell_type": "code",
   "execution_count": 4,
   "metadata": {
    "scrolled": true
   },
   "outputs": [
    {
     "name": "stdout",
     "output_type": "stream",
     "text": [
      "\n",
      "\n",
      "In this loading data, we have the follow index related to changing cycles:  [       0  5656573 50085877]\n",
      "In the cycle loop:  0  it have:  1381 steps\n",
      "In the cycle loop:  1  it have:  10847 steps\n",
      "Saving data left, at last loop-wise, data_left of len:  31834122 from index 50085877\n",
      "In this loop we detect  2  cycles, we have accumulated:  2 cycles \n",
      "\n",
      "\n",
      "\n",
      "In this loading data, we have the follow index related to changing cycles:  [       0 54591477 88686574]\n",
      "In the cycle loop:  0  it have:  13328 steps\n",
      "In the cycle loop:  1  it have:  8324 steps\n",
      "Saving data left, at last loop-wise, data_left of len:  25067547 from index 88686574\n",
      "In this loop we detect  2  cycles, we have accumulated:  4 cycles \n",
      "\n",
      "\n",
      "\n",
      "In this loading data, we have the follow index related to changing cycles:  [       0 48869366 79880176]\n",
      "In the cycle loop:  0  it have:  11931 steps\n",
      "In the cycle loop:  1  it have:  7571 steps\n",
      "Saving data left, at last loop-wise, data_left of len:  27107370 from index 79880176\n",
      "In this loop we detect  2  cycles, we have accumulated:  6 cycles \n",
      "\n",
      "\n",
      "\n",
      "In this loading data, we have the follow index related to changing cycles:  [       0 27176954 89186286]\n",
      "In the cycle loop:  0  it have:  6635 steps\n",
      "In the cycle loop:  1  it have:  15139 steps\n",
      "Saving data left, at last loop-wise, data_left of len:  19841083 from index 89186286\n",
      "In this loop we detect  2  cycles, we have accumulated:  8 cycles \n",
      "\n",
      "\n",
      "\n",
      "In this loading data, we have the follow index related to changing cycles:  [       0 30437369 67538930]\n",
      "In the cycle loop:  0  it have:  7431 steps\n",
      "In the cycle loop:  1  it have:  9058 steps\n",
      "Saving data left, at last loop-wise, data_left of len:  34222152 from index 67538930\n",
      "In this loop we detect  2  cycles, we have accumulated:  10 cycles \n",
      "\n",
      "\n",
      "\n",
      "In this loading data, we have the follow index related to changing cycles:  [       0 43991031 86433774]\n",
      "In the cycle loop:  0  it have:  10740 steps\n",
      "In the cycle loop:  1  it have:  10362 steps\n",
      "Saving data left, at last loop-wise, data_left of len:  29708377 from index 86433774\n",
      "In this loop we detect  2  cycles, we have accumulated:  12 cycles \n",
      "\n",
      "\n",
      "\n",
      "In this loading data, we have the follow index related to changing cycles:  [       0 33988601 66965491]\n",
      "In the cycle loop:  0  it have:  8298 steps\n",
      "In the cycle loop:  1  it have:  8051 steps\n",
      "Saving data left, at last loop-wise, data_left of len:  44662885 from index 66965491\n",
      "In this loop we detect  2  cycles, we have accumulated:  14 cycles \n",
      "\n",
      "\n",
      "\n",
      "Seems, the loading data, it is done.\n",
      "In this loading data, we have the follow index related to changing cycles:  [       0 56791028 93208557]\n",
      "In the cycle loop:  0  it have:  13865 steps\n",
      "In the cycle loop:  1  it have:  8891 steps\n",
      "Saving data left, at last loop-wise, data_left of len:  7159807 from index 93208557\n",
      "In this loop we detect  2  cycles, we have accumulated:  16 cycles \n",
      "\n"
     ]
    }
   ],
   "source": [
    "#########################\n",
    "#una lista {}\n",
    "#############\n",
    "\n",
    "data_left = pd.DataFrame({})\n",
    "\n",
    "while flag_done_load:\n",
    "    print('\\n')\n",
    "    #loading files of size number_load_data\n",
    "    data = reader.get_chunk(number_load_data)\n",
    "    #assert(len(data) == number_load_data)\n",
    "    if len(data) != number_load_data:\n",
    "        print('Seems, the loading data, it is done.')\n",
    "        flag_done_load = 0\n",
    "    \n",
    "    \n",
    "    # after first cycle, we concatenate the left data in before loop-wise with the upload data from file\n",
    "   \n",
    "    #print('Concatenating the data of len: ' , len(data) ,'with the data_left of len: ', len(data_left))\n",
    "    #print(data[:][:5])\n",
    "    data = pd.concat([data_left,data])\n",
    "    #print(data[:][len(data_left)-2:len(data_left)+2])\n",
    "    #print('Finally, we have a new data with len: ',len(data))\n",
    "\n",
    "    #################\n",
    "    ###################\n",
    "    #numpy.argwhere() function is used to find the indices of array elements that are non-zero, grouped by element.\n",
    "    #\n",
    "    \n",
    "    #looking for index of cycles\n",
    "    index_cycles = np.argwhere(np.diff(data['time_to_failure']) > 1.0)\n",
    "    index_cycles = np.insert(index_cycles,0,last_cycle)\n",
    "    \n",
    "    print('In this loading data, we have the follow index related to changing cycles: ', index_cycles)\n",
    "    \n",
    "    step_0 = 0\n",
    "    for index_c in np.arange(len(index_cycles)-1):        \n",
    "        # Index where are the big jumps, showing the boundaries of cycles\n",
    "        index_steps = np.argwhere(np.diff(data['time_to_failure'][index_cycles[index_c]:index_cycles[index_c+1]]) < -0.0002)\n",
    "        \n",
    "        index_steps = np.insert(index_steps,0,step_0)\n",
    "\n",
    "        \n",
    "        print('In the cycle loop: ', index_c, ' it have: ', len(index_steps), 'steps')\n",
    "        \n",
    "        #Firstly, It is saved the signal_1, the first 36. And signal_2 the last 36\n",
    "        if cycle in cycles_to_save:\n",
    "            #print('Saving signal_1 and signal_2')\n",
    "            signal_1 = data[:][index_steps[0]:index_steps[number_sample-1]]\n",
    "            half_index = int((len(index_steps))*0.5)\n",
    "            signal_2 = data[:][index_steps[half_index-number_sample]:index_steps[half_index]]\n",
    "            signal_3 = data[:][index_steps[len(index_steps)-number_sample-1]:index_steps[len(index_steps)-1]]\n",
    "        \n",
    "        if index_c == len(index_cycles)-2:\n",
    "            data_left = data[:][index_cycles[index_c+1]+1:]\n",
    "            print('Saving data left, at last loop-wise, data_left of len: ', len(data_left), 'from index', index_cycles[index_c+1])\n",
    "            \n",
    "        \n",
    "        cycle += 1\n",
    "        #step_0 = index_steps[len(index_steps)-1]\n",
    "        \n",
    "        #last_cycle = index_cycles[len(index_cycles)-1]\n",
    "\n",
    "    \n",
    "    #cycle += 1\n",
    "    \n",
    "    print('In this loop we detect ',len(index_cycles)-1 ,' cycles, we have accumulated: ', cycle, 'cycles \\n')\n",
    "    \n",
    "    \n",
    "    \n",
    "    #index_steps = np.argwhere(np.diff(data['time_to_failure']) < -0.0002)\n",
    "    \n",
    "\n",
    "    "
   ]
  },
  {
   "cell_type": "markdown",
   "metadata": {},
   "source": [
    "Acá solo se muestra como se parte la señal en 36 pedazos. Representados en diferentes colores"
   ]
  },
  {
   "cell_type": "code",
   "execution_count": 5,
   "metadata": {},
   "outputs": [
    {
     "data": {
      "image/png": "[encoded data removed]",
      "text/plain": [
       "<Figure size 432x288 with 1 Axes>"
      ]
     },
     "metadata": {},
     "output_type": "display_data"
    }
   ],
   "source": [
    "s = 1 #s step in signal-wise\n",
    "for i in np.arange(len(index_steps)-1):\n",
    "#for i in np.arange(0,10,s):\n",
    "    plt.plot(signal_1['acoustic_data'][index_steps[i]:index_steps[i+s]])"
   ]
  },
  {
   "cell_type": "markdown",
   "metadata": {},
   "source": [
    "Acá, vemos que sucede con el PSD de 'signal_2', tambien suavizamos un poco la curva con 'savgol_filter'. \n",
    "Para ver la forma de las graficas con intensidades pequeñas, esta normalizado con el maximo de la curva:"
   ]
  },
  {
   "cell_type": "code",
   "execution_count": 6,
   "metadata": {},
   "outputs": [
    {
     "name": "stdout",
     "output_type": "stream",
     "text": [
      "0.32967032967032966\n",
      "mean: 0.07338508097831743\n"
     ]
    },
    {
     "data": {
      "image/png": "[encoded data removed]",
      "text/plain": [
       "<Figure size 432x288 with 1 Axes>"
      ]
     },
     "metadata": {},
     "output_type": "display_data"
    }
   ],
   "source": [
    "\n",
    "from scipy.signal import savgol_filter\n",
    "#plt.yscale('log')\n",
    "#for i in np.arange(len(index_steps)-1):\n",
    "for i in np.arange(0,1,s):\n",
    "    quake_time, _frequencies, power_spectrum = get_segment_spectrum(signal_3[index_steps[i]:index_steps[i+s]])\n",
    "    index_max = np.argmax(power_spectrum) \n",
    "    #print(index_max)\n",
    "    #print(_frequencies[index_max])\n",
    "    print(feature_calculators.first_location_of_maximum(power_spectrum))\n",
    "    print('mean:', np.mean(power_spectrum))\n",
    "\n",
    "    \n",
    "#savgol_filter(x, window_length, polyorder, deriv=0, delta=1.0, axis=-1, mode='interp', cval=0.0\n",
    "    result = savgol_filter(power_spectrum, 15, 3)\n",
    "\n",
    "    \n",
    "    plt.plot(_frequencies, power_spectrum/np.max(power_spectrum))\n",
    "    #plt.plot(_frequencies, power_spectrum)\n",
    "    #plt.plot(_frequencies[:len(_frequencies)-1], np.diff(result/np.max(result)))"
   ]
  },
  {
   "cell_type": "markdown",
   "metadata": {},
   "source": [
    "## Resumen y Conclusiones\n",
    "\n",
    "La propuesta, es de caracterizar los parametros a entrenar, a partir de entender un poco de como se compone la señal que se pone a prueba. Como sabemos esta tiene 150 mil datos. La idea es tomar segmentos de la señal de 150 mil, partirlos en 36. Y evaluar una serie de caracteristicas para cada uno de los 36 segmentos. \n",
    "Por ejemplo: \n",
    "Propongo tomar las posiciones y valores de los 3 picos mas grandes. Y ordenarlos de la frecuencia menor a la mayor.\n",
    "Esto quiere decir de los 36 segmentos tendremos en total $36*6 = 216$ parametros para predecir.\n",
    "Otra idea es ir avanzando de a 150 mil/36 pasos, en vez de avanzar los 150 mil de una sola vez. Pues en el training set, el tiempo restante para el terremoto, esta discretizado por aproximadamente cada $4096$ datos $~ \\frac{150000}{36} = 4166,6 $.  \n",
    "\n"
   ]
  },
  {
   "cell_type": "markdown",
   "metadata": {},
   "source": [
    "### recursos\n",
    "En la siguiente pagina, hay una función bacana para detectar picos de una cruva.\n",
    "\n",
    "https://nbviewer.jupyter.org/github/demotu/BMC/blob/master/notebooks/DetectPeaks.ipynb\n",
    "\n",
    "Aún no lo probé pero creo que funcionará bien usando un valor adecuado para el 'minimum peak distance' (mpd).\n",
    "\n",
    "\n"
   ]
  },
  {
   "cell_type": "code",
   "execution_count": 30,
   "metadata": {},
   "outputs": [],
   "source": [
    "import heapq\n",
    "\n",
    "#Nmax- how many max do you want?\n",
    "def get_max_values(freq, power, Nmax=5):\n",
    "    \n",
    "    #finding peaks using inbuilt functions, condition on height\n",
    "    #peaks_positive, _=signal.find_peaks(power_spectrum, height=0.1)\n",
    "    #return indexes for power_spectrum\n",
    "    peaks_positive, _=signal.find_peaks(power,  height=0.1)\n",
    "    # find Nmax intensities values and order them\n",
    "    max_intensities= np.array(heapq.nlargest(Nmax, power[peaks_positive]))\n",
    "    #find Nmax intensities values and return their indexes\n",
    "    index_frequencies= heapq.nlargest(Nmax, range(len(power[peaks_positive])), power[peaks_positive].__getitem__)\n",
    "    #find max frequencies values\n",
    "    max_frequencies=freq[peaks_positive][index_frequencies]\n",
    "    #return numpy array\n",
    "    return max_intensities, max_frequencies\n",
    "\n",
    "max_int, max_freq= get_max_values(_frequencies, power_spectrum)"
   ]
  },
  {
   "cell_type": "code",
   "execution_count": 31,
   "metadata": {},
   "outputs": [
    {
     "data": {
      "text/plain": [
       "array([0.36977381, 0.28386714, 0.28354383, 0.27162697, 0.18898781])"
      ]
     },
     "execution_count": 31,
     "metadata": {},
     "output_type": "execute_result"
    }
   ],
   "source": [
    "max_int"
   ]
  },
  {
   "cell_type": "code",
   "execution_count": 32,
   "metadata": {},
   "outputs": [
    {
     "data": {
      "text/plain": [
       "array([155273.4375, 223632.8125, 267578.125 , 174804.6875, 252929.6875])"
      ]
     },
     "execution_count": 32,
     "metadata": {},
     "output_type": "execute_result"
    }
   ],
   "source": [
    "max_freq"
   ]
  },
  {
   "cell_type": "code",
   "execution_count": 33,
   "metadata": {},
   "outputs": [
    {
     "data": {
      "image/png": "[encoded data removed]",
      "text/plain": [
       "<Figure size 432x288 with 1 Axes>"
      ]
     },
     "metadata": {},
     "output_type": "display_data"
    }
   ],
   "source": [
    "plt.plot( max_freq,max_int, 'ro')\n",
    "plt.plot(_frequencies, power_spectrum)\n",
    "plt.show()"
   ]
  },
  {
   "cell_type": "code",
   "execution_count": 35,
   "metadata": {},
   "outputs": [
    {
     "data": {
      "image/png": "[encoded data removed]",
      "text/plain": [
       "<Figure size 432x288 with 1 Axes>"
      ]
     },
     "metadata": {},
     "output_type": "display_data"
    }
   ],
   "source": [
    "for i in np.arange(0,1,s):\n",
    "    quake_time, _frequencies, power_spectrum = get_segment_spectrum(signal_2[index_steps[i]:index_steps[i+s]])\n",
    "    index_max = np.argmax(power_spectrum) \n",
    "    result = savgol_filter(power_spectrum, 15, 3)  \n",
    "    plt.plot(_frequencies, power_spectrum/np.max(power_spectrum))\n"
   ]
  },
  {
   "cell_type": "code",
   "execution_count": 39,
   "metadata": {},
   "outputs": [
    {
     "data": {
      "image/png": "[encoded data removed]",
      "text/plain": [
       "<Figure size 432x288 with 1 Axes>"
      ]
     },
     "metadata": {},
     "output_type": "display_data"
    }
   ],
   "source": [
    "max_int, max_freq= get_max_values(_frequencies, power_spectrum, 2)\n",
    "plt.plot( max_freq,max_int, 'ro')\n",
    "plt.plot(_frequencies, power_spectrum)\n",
    "plt.show()"
   ]
  }
 ],
 "metadata": {
  "kernelspec": {
   "display_name": "Python 3",
   "language": "python",
   "name": "python3"
  },
  "language_info": {
   "codemirror_mode": {
    "name": "ipython",
    "version": 3
   },
   "file_extension": ".py",
   "mimetype": "text/x-python",
   "name": "python",
   "nbconvert_exporter": "python",
   "pygments_lexer": "ipython3",
   "version": "3.6.5"
  }
 },
 "nbformat": 4,
 "nbformat_minor": 2
}
