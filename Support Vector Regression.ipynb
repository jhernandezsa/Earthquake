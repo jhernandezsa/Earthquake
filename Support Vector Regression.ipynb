{
 "cells": [
  {
   "cell_type": "code",
   "execution_count": 87,
   "metadata": {},
   "outputs": [],
   "source": [
    "import pandas as pd\n",
    "import numpy as np\n",
    "import matplotlib.pyplot as plt\n",
    "from tqdm import tqdm\n",
    "from tqdm import tqdm_notebook\n",
    "from sklearn.linear_model import LinearRegression\n",
    "\n",
    "\n",
    "import dask\n",
    "import dask.dataframe as dd\n",
    "import os\n",
    "import scipy as sp\n",
    "from tsfresh.feature_extraction import feature_calculators\n",
    "from scipy import signal\n",
    "import heapq\n",
    "from scipy.signal import savgol_filter\n",
    "\n",
    "from sklearn.preprocessing import StandardScaler\n",
    "from sklearn.svm import NuSVR\n",
    "from sklearn.metrics import mean_absolute_error\n",
    "from sklearn.model_selection import train_test_split\n"
   ]
  },
  {
   "cell_type": "code",
   "execution_count": 20,
   "metadata": {},
   "outputs": [],
   "source": [
    "sampling_frequency = 4e6\n",
    "number_sample = 36"
   ]
  },
  {
   "cell_type": "code",
   "execution_count": 3,
   "metadata": {},
   "outputs": [
    {
     "name": "stdout",
     "output_type": "stream",
     "text": [
      "Wall time: 2min 46s\n"
     ]
    }
   ],
   "source": [
    "%%time\n",
    "train_df = pd.read_csv('train.csv', dtype={'acoustic_data': np.int16, 'time_to_failure': np.float64})"
   ]
  },
  {
   "cell_type": "code",
   "execution_count": 4,
   "metadata": {},
   "outputs": [
    {
     "data": {
      "text/plain": [
       "(629145480, 2)"
      ]
     },
     "execution_count": 4,
     "metadata": {},
     "output_type": "execute_result"
    }
   ],
   "source": [
    "train_df.shape"
   ]
  },
  {
   "cell_type": "code",
   "execution_count": 6,
   "metadata": {},
   "outputs": [],
   "source": [
    "#numbers of rows \n",
    "rows = 150000\n",
    "#numbers of segments of 150000 \n",
    "segments = int(np.floor(train_df.shape[0] / rows))"
   ]
  },
  {
   "cell_type": "code",
   "execution_count": 7,
   "metadata": {},
   "outputs": [
    {
     "data": {
      "text/plain": [
       "4194"
      ]
     },
     "execution_count": 7,
     "metadata": {},
     "output_type": "execute_result"
    }
   ],
   "source": [
    "segments"
   ]
  },
  {
   "cell_type": "code",
   "execution_count": 22,
   "metadata": {},
   "outputs": [
    {
     "data": {
      "text/plain": [
       "4166"
      ]
     },
     "execution_count": 22,
     "metadata": {},
     "output_type": "execute_result"
    }
   ],
   "source": [
    "#Defining 36 intervals, according with Carlos suggestions\n",
    "subsegment=int(np.floor(rows/number_sample))\n",
    "subsegment"
   ]
  },
  {
   "cell_type": "code",
   "execution_count": 21,
   "metadata": {},
   "outputs": [],
   "source": [
    "#creating a dataframe with no data for  x and y, dimension are segments x 1\n",
    "X_train = pd.DataFrame(index=range(segments), dtype=np.float64)\n",
    "y_train = pd.DataFrame(index=range(segments), dtype=np.float64, columns=['time_to_failure'])"
   ]
  },
  {
   "cell_type": "code",
   "execution_count": 23,
   "metadata": {},
   "outputs": [],
   "source": [
    "#Definition of functions, to get the common features, and related to the spectrum shape.\n",
    "\n",
    "\n",
    "\n",
    "def get_spectrum(input_signal):\n",
    "    \"\"\"\n",
    "    Get a pandas Series with the fourier power spectum for a given signal segment.\n",
    "    \"\"\"\n",
    "    input_signal = np.asarray(input_signal.values, dtype='float64')\n",
    "    \n",
    "    # Remove the mean  \n",
    "    input_signal -= input_signal.mean()  \n",
    "    \n",
    "    # Estimate power spectral density using a periodogram.\n",
    "    frequencies , power_spectrum = signal.periodogram(input_signal, sampling_frequency, scaling='spectrum')    \n",
    "    \n",
    "    # Run a running windows average of 10-points to smooth the signal.\n",
    "    power_spectrum = pd.Series(power_spectrum, index=frequencies).rolling(window=10).mean()        \n",
    "    \n",
    "    return pd.Series(power_spectrum)\n",
    "\n",
    "def get_segment_spectrum(segment_df):\n",
    "    \"\"\"\n",
    "    Get the fourier power spectrum of a given segment.\n",
    "    \n",
    "    Returns the quake_time, frequencies, and power_spectrum\n",
    "    \"\"\"\n",
    "    \n",
    "    #quake_time =segment_df['time_to_failure'].values[-1]\n",
    "    \n",
    "    _power_spectrum = get_spectrum(segment_df['acoustic_data']).dropna() \n",
    "    \n",
    "    # Keep only frequencies < 450khz (larger frequencies have a negligible contribution).\n",
    "    _power_spectrum = _power_spectrum[_power_spectrum.index<450_000]\n",
    "    \n",
    "    # Keep one every 10 samples\n",
    "    power_spectrum=_power_spectrum.values[::5]\n",
    "    frequencies=_power_spectrum.index.values[::5]    \n",
    "    \n",
    "    return  frequencies, power_spectrum\n",
    "\n",
    "\n"
   ]
  },
  {
   "cell_type": "code",
   "execution_count": 24,
   "metadata": {},
   "outputs": [],
   "source": [
    "# find maxs PSD \n",
    "#Nmax- how many max do you want?\n",
    "def get_max_values(freq, power, Nmax):\n",
    "    \n",
    "    #finding peaks using inbuilt functions, condition on height\n",
    "    #peaks_positive, _=signal.find_peaks(power_spectrum, height=0.1)\n",
    "    #return indexes for power_spectrum\n",
    "    peaks_positive, _=signal.find_peaks(power,  height=0.001)\n",
    "    # find Nmax intensities values and order them\n",
    "    max_intensities= np.array(heapq.nlargest(Nmax, power[peaks_positive]))\n",
    "    #find Nmax intensities values and return their indexes\n",
    "    index_frequencies= heapq.nlargest(Nmax, range(len(power[peaks_positive])), power[peaks_positive].__getitem__)\n",
    "    #find max frequencies values\n",
    "    max_frequencies=freq[peaks_positive][index_frequencies]\n",
    "    #return numpy array\n",
    "    return max_intensities, max_frequencies\n",
    "\n",
    "#max_int, max_freq= get_max_values(_frequencies, power_spectrum)"
   ]
  },
  {
   "cell_type": "code",
   "execution_count": null,
   "metadata": {},
   "outputs": [],
   "source": []
  },
  {
   "cell_type": "code",
   "execution_count": 25,
   "metadata": {},
   "outputs": [],
   "source": [
    "# seg_id = segment\n",
    "def create_features(segment, seg, Xt ):\n",
    "    # to take kurtosis is necessary create a serie,\n",
    "    x = pd.Series(seg['acoustic_data'].values)\n",
    "    Xt.loc[segment, 'mean'] = x.mean()\n",
    "    Xt.loc[segment, 'kurt'] = x.kurtosis()\n",
    "    Xt.loc[segment, 'skew'] = x.skew()\n",
    "    for i in range(number_sample):\n",
    "        subpart=seg.iloc[i*subsegment:subsegment*i+subsegment]\n",
    "        #quake_time, _frequencies, power_spectrum = get_segment_spectrum(subpart)\n",
    "        _frequencies, power_spectrum = get_segment_spectrum(subpart)\n",
    "        # normalize or not normalize!!!!!!!!!!!!!!!\n",
    "        result = savgol_filter(power_spectrum/np.max(power_spectrum), 15, 4)\n",
    "        #result = savgol_filter(power_spectrum, 15, 4)\n",
    "        max_int, max_freq= get_max_values(_frequencies, result, 3)\n",
    "        Xt.loc[segment, 'Int ' + str(i)+'-1'] = max_int[0]\n",
    "        Xt.loc[segment, 'Int ' + str(i)+'-2'] = max_int[1]\n",
    "        Xt.loc[segment, 'Int ' + str(i)+'-3'] = max_int[2]\n",
    "        Xt.loc[segment, 'Freq ' + str(i)+'-1'] = max_freq[0]\n",
    "        Xt.loc[segment, 'Freq ' + str(i)+'-2'] = max_freq[1]\n",
    "        Xt.loc[segment, 'Freq ' + str(i)+'-3'] = max_freq[2]\n",
    "\n",
    "    "
   ]
  },
  {
   "cell_type": "code",
   "execution_count": 26,
   "metadata": {
    "scrolled": false
   },
   "outputs": [
    {
     "data": {
      "application/vnd.jupyter.widget-view+json": {
       "model_id": "90de3aeb7ec64df395d45db12087b411",
       "version_major": 2,
       "version_minor": 0
      },
      "text/plain": [
       "HBox(children=(IntProgress(value=0, max=4194), HTML(value='')))"
      ]
     },
     "metadata": {},
     "output_type": "display_data"
    }
   ],
   "source": [
    "for segment in tqdm_notebook(range(segments)):\n",
    "    #done\n",
    "    seg = train_df.iloc[segment*rows:segment*rows+rows]\n",
    "   # .values  return the numpy representation of the given DataFrame      \n",
    "    #done\n",
    "    y_train.loc[segment, 'time_to_failure'] = seg['time_to_failure'].values[-1]\n",
    "    create_features(segment, seg, X_train)\n",
    "    \n",
    "    "
   ]
  },
  {
   "cell_type": "code",
   "execution_count": 27,
   "metadata": {},
   "outputs": [
    {
     "data": {
      "text/plain": [
       "(4194, 219)"
      ]
     },
     "execution_count": 27,
     "metadata": {},
     "output_type": "execute_result"
    }
   ],
   "source": [
    "# cheking Dataframe\n",
    "X_train.shape"
   ]
  },
  {
   "cell_type": "code",
   "execution_count": 28,
   "metadata": {},
   "outputs": [
    {
     "data": {
      "text/html": [
       "<div>\n",
       "<style scoped>\n",
       "    .dataframe tbody tr th:only-of-type {\n",
       "        vertical-align: middle;\n",
       "    }\n",
       "\n",
       "    .dataframe tbody tr th {\n",
       "        vertical-align: top;\n",
       "    }\n",
       "\n",
       "    .dataframe thead th {\n",
       "        text-align: right;\n",
       "    }\n",
       "</style>\n",
       "<table border=\"1\" class=\"dataframe\">\n",
       "  <thead>\n",
       "    <tr style=\"text-align: right;\">\n",
       "      <th></th>\n",
       "      <th>mean</th>\n",
       "      <th>kurt</th>\n",
       "      <th>skew</th>\n",
       "      <th>Int 0-1</th>\n",
       "      <th>Int 0-2</th>\n",
       "      <th>Int 0-3</th>\n",
       "      <th>Freq 0-1</th>\n",
       "      <th>Freq 0-2</th>\n",
       "      <th>Freq 0-3</th>\n",
       "      <th>Int 1-1</th>\n",
       "      <th>...</th>\n",
       "      <th>Int 34-3</th>\n",
       "      <th>Freq 34-1</th>\n",
       "      <th>Freq 34-2</th>\n",
       "      <th>Freq 34-3</th>\n",
       "      <th>Int 35-1</th>\n",
       "      <th>Int 35-2</th>\n",
       "      <th>Int 35-3</th>\n",
       "      <th>Freq 35-1</th>\n",
       "      <th>Freq 35-2</th>\n",
       "      <th>Freq 35-3</th>\n",
       "    </tr>\n",
       "  </thead>\n",
       "  <tbody>\n",
       "    <tr>\n",
       "      <th>0</th>\n",
       "      <td>4.884113</td>\n",
       "      <td>33.662481</td>\n",
       "      <td>-0.024061</td>\n",
       "      <td>0.732404</td>\n",
       "      <td>0.636964</td>\n",
       "      <td>0.149946</td>\n",
       "      <td>253480.556889</td>\n",
       "      <td>176668.266923</td>\n",
       "      <td>210273.643783</td>\n",
       "      <td>0.698115</td>\n",
       "      <td>...</td>\n",
       "      <td>0.145423</td>\n",
       "      <td>258281.325012</td>\n",
       "      <td>186269.803169</td>\n",
       "      <td>306289.006241</td>\n",
       "      <td>0.768794</td>\n",
       "      <td>0.327659</td>\n",
       "      <td>0.289910</td>\n",
       "      <td>253480.556889</td>\n",
       "      <td>215074.411906</td>\n",
       "      <td>181469.035046</td>\n",
       "    </tr>\n",
       "    <tr>\n",
       "      <th>1</th>\n",
       "      <td>4.725767</td>\n",
       "      <td>98.758517</td>\n",
       "      <td>0.390561</td>\n",
       "      <td>0.842336</td>\n",
       "      <td>0.567536</td>\n",
       "      <td>0.385974</td>\n",
       "      <td>248679.788766</td>\n",
       "      <td>176668.266923</td>\n",
       "      <td>215074.411906</td>\n",
       "      <td>0.814103</td>\n",
       "      <td>...</td>\n",
       "      <td>0.110755</td>\n",
       "      <td>258281.325012</td>\n",
       "      <td>195871.339414</td>\n",
       "      <td>296687.469995</td>\n",
       "      <td>0.844876</td>\n",
       "      <td>0.480550</td>\n",
       "      <td>0.439001</td>\n",
       "      <td>253480.556889</td>\n",
       "      <td>176668.266923</td>\n",
       "      <td>215074.411906</td>\n",
       "    </tr>\n",
       "    <tr>\n",
       "      <th>2</th>\n",
       "      <td>4.906393</td>\n",
       "      <td>33.555211</td>\n",
       "      <td>0.217391</td>\n",
       "      <td>0.618798</td>\n",
       "      <td>0.186305</td>\n",
       "      <td>0.147970</td>\n",
       "      <td>248679.788766</td>\n",
       "      <td>282285.165627</td>\n",
       "      <td>176668.266923</td>\n",
       "      <td>0.646589</td>\n",
       "      <td>...</td>\n",
       "      <td>0.174785</td>\n",
       "      <td>258281.325012</td>\n",
       "      <td>171867.498800</td>\n",
       "      <td>95055.208833</td>\n",
       "      <td>0.858529</td>\n",
       "      <td>0.613699</td>\n",
       "      <td>0.331679</td>\n",
       "      <td>267882.861258</td>\n",
       "      <td>195871.339414</td>\n",
       "      <td>143062.890062</td>\n",
       "    </tr>\n",
       "    <tr>\n",
       "      <th>3</th>\n",
       "      <td>4.902240</td>\n",
       "      <td>116.548172</td>\n",
       "      <td>0.757278</td>\n",
       "      <td>0.687366</td>\n",
       "      <td>0.224922</td>\n",
       "      <td>0.219061</td>\n",
       "      <td>267882.861258</td>\n",
       "      <td>224675.948152</td>\n",
       "      <td>239078.252520</td>\n",
       "      <td>0.698789</td>\n",
       "      <td>...</td>\n",
       "      <td>0.271580</td>\n",
       "      <td>167066.730677</td>\n",
       "      <td>258281.325012</td>\n",
       "      <td>85453.672588</td>\n",
       "      <td>0.723415</td>\n",
       "      <td>0.479196</td>\n",
       "      <td>0.215569</td>\n",
       "      <td>263082.093135</td>\n",
       "      <td>205472.875660</td>\n",
       "      <td>378300.528084</td>\n",
       "    </tr>\n",
       "    <tr>\n",
       "      <th>4</th>\n",
       "      <td>4.908720</td>\n",
       "      <td>52.977905</td>\n",
       "      <td>0.064531</td>\n",
       "      <td>0.852749</td>\n",
       "      <td>0.174800</td>\n",
       "      <td>0.131928</td>\n",
       "      <td>258281.325012</td>\n",
       "      <td>219875.180029</td>\n",
       "      <td>181469.035046</td>\n",
       "      <td>0.778168</td>\n",
       "      <td>...</td>\n",
       "      <td>0.519141</td>\n",
       "      <td>258281.325012</td>\n",
       "      <td>90254.440711</td>\n",
       "      <td>186269.803169</td>\n",
       "      <td>0.771947</td>\n",
       "      <td>0.430120</td>\n",
       "      <td>0.290565</td>\n",
       "      <td>258281.325012</td>\n",
       "      <td>181469.035046</td>\n",
       "      <td>383101.296207</td>\n",
       "    </tr>\n",
       "  </tbody>\n",
       "</table>\n",
       "<p>5 rows × 219 columns</p>\n",
       "</div>"
      ],
      "text/plain": [
       "       mean        kurt      skew   Int 0-1   Int 0-2   Int 0-3  \\\n",
       "0  4.884113   33.662481 -0.024061  0.732404  0.636964  0.149946   \n",
       "1  4.725767   98.758517  0.390561  0.842336  0.567536  0.385974   \n",
       "2  4.906393   33.555211  0.217391  0.618798  0.186305  0.147970   \n",
       "3  4.902240  116.548172  0.757278  0.687366  0.224922  0.219061   \n",
       "4  4.908720   52.977905  0.064531  0.852749  0.174800  0.131928   \n",
       "\n",
       "        Freq 0-1       Freq 0-2       Freq 0-3   Int 1-1      ...        \\\n",
       "0  253480.556889  176668.266923  210273.643783  0.698115      ...         \n",
       "1  248679.788766  176668.266923  215074.411906  0.814103      ...         \n",
       "2  248679.788766  282285.165627  176668.266923  0.646589      ...         \n",
       "3  267882.861258  224675.948152  239078.252520  0.698789      ...         \n",
       "4  258281.325012  219875.180029  181469.035046  0.778168      ...         \n",
       "\n",
       "   Int 34-3      Freq 34-1      Freq 34-2      Freq 34-3  Int 35-1  Int 35-2  \\\n",
       "0  0.145423  258281.325012  186269.803169  306289.006241  0.768794  0.327659   \n",
       "1  0.110755  258281.325012  195871.339414  296687.469995  0.844876  0.480550   \n",
       "2  0.174785  258281.325012  171867.498800   95055.208833  0.858529  0.613699   \n",
       "3  0.271580  167066.730677  258281.325012   85453.672588  0.723415  0.479196   \n",
       "4  0.519141  258281.325012   90254.440711  186269.803169  0.771947  0.430120   \n",
       "\n",
       "   Int 35-3      Freq 35-1      Freq 35-2      Freq 35-3  \n",
       "0  0.289910  253480.556889  215074.411906  181469.035046  \n",
       "1  0.439001  253480.556889  176668.266923  215074.411906  \n",
       "2  0.331679  267882.861258  195871.339414  143062.890062  \n",
       "3  0.215569  263082.093135  205472.875660  378300.528084  \n",
       "4  0.290565  258281.325012  181469.035046  383101.296207  \n",
       "\n",
       "[5 rows x 219 columns]"
      ]
     },
     "execution_count": 28,
     "metadata": {},
     "output_type": "execute_result"
    }
   ],
   "source": [
    "X_train.head()"
   ]
  },
  {
   "cell_type": "code",
   "execution_count": 29,
   "metadata": {},
   "outputs": [
    {
     "data": {
      "text/html": [
       "<div>\n",
       "<style scoped>\n",
       "    .dataframe tbody tr th:only-of-type {\n",
       "        vertical-align: middle;\n",
       "    }\n",
       "\n",
       "    .dataframe tbody tr th {\n",
       "        vertical-align: top;\n",
       "    }\n",
       "\n",
       "    .dataframe thead th {\n",
       "        text-align: right;\n",
       "    }\n",
       "</style>\n",
       "<table border=\"1\" class=\"dataframe\">\n",
       "  <thead>\n",
       "    <tr style=\"text-align: right;\">\n",
       "      <th></th>\n",
       "      <th>mean</th>\n",
       "      <th>kurt</th>\n",
       "      <th>skew</th>\n",
       "      <th>Int 0-1</th>\n",
       "      <th>Int 0-2</th>\n",
       "      <th>Int 0-3</th>\n",
       "      <th>Freq 0-1</th>\n",
       "      <th>Freq 0-2</th>\n",
       "      <th>Freq 0-3</th>\n",
       "      <th>Int 1-1</th>\n",
       "      <th>...</th>\n",
       "      <th>Int 34-3</th>\n",
       "      <th>Freq 34-1</th>\n",
       "      <th>Freq 34-2</th>\n",
       "      <th>Freq 34-3</th>\n",
       "      <th>Int 35-1</th>\n",
       "      <th>Int 35-2</th>\n",
       "      <th>Int 35-3</th>\n",
       "      <th>Freq 35-1</th>\n",
       "      <th>Freq 35-2</th>\n",
       "      <th>Freq 35-3</th>\n",
       "    </tr>\n",
       "  </thead>\n",
       "  <tbody>\n",
       "    <tr>\n",
       "      <th>4189</th>\n",
       "      <td>4.446347</td>\n",
       "      <td>23.956541</td>\n",
       "      <td>-0.017274</td>\n",
       "      <td>0.625645</td>\n",
       "      <td>0.222914</td>\n",
       "      <td>0.216992</td>\n",
       "      <td>277484.397504</td>\n",
       "      <td>195871.339414</td>\n",
       "      <td>239078.252520</td>\n",
       "      <td>0.720294</td>\n",
       "      <td>...</td>\n",
       "      <td>0.395592</td>\n",
       "      <td>263082.093135</td>\n",
       "      <td>181469.035046</td>\n",
       "      <td>296687.469995</td>\n",
       "      <td>0.925899</td>\n",
       "      <td>0.110811</td>\n",
       "      <td>0.079016</td>\n",
       "      <td>263082.093135</td>\n",
       "      <td>191070.571291</td>\n",
       "      <td>219875.180029</td>\n",
       "    </tr>\n",
       "    <tr>\n",
       "      <th>4190</th>\n",
       "      <td>4.413793</td>\n",
       "      <td>28.942916</td>\n",
       "      <td>0.161954</td>\n",
       "      <td>0.684737</td>\n",
       "      <td>0.208356</td>\n",
       "      <td>0.201299</td>\n",
       "      <td>263082.093135</td>\n",
       "      <td>234277.484398</td>\n",
       "      <td>335093.614978</td>\n",
       "      <td>0.738498</td>\n",
       "      <td>...</td>\n",
       "      <td>0.252509</td>\n",
       "      <td>253480.556889</td>\n",
       "      <td>186269.803169</td>\n",
       "      <td>147863.658185</td>\n",
       "      <td>0.729890</td>\n",
       "      <td>0.704327</td>\n",
       "      <td>0.411912</td>\n",
       "      <td>99855.976956</td>\n",
       "      <td>253480.556889</td>\n",
       "      <td>181469.035046</td>\n",
       "    </tr>\n",
       "    <tr>\n",
       "      <th>4191</th>\n",
       "      <td>4.607200</td>\n",
       "      <td>9.986985</td>\n",
       "      <td>0.142006</td>\n",
       "      <td>0.805306</td>\n",
       "      <td>0.301255</td>\n",
       "      <td>0.296610</td>\n",
       "      <td>248679.788766</td>\n",
       "      <td>383101.296207</td>\n",
       "      <td>186269.803169</td>\n",
       "      <td>0.656493</td>\n",
       "      <td>...</td>\n",
       "      <td>0.202645</td>\n",
       "      <td>267882.861258</td>\n",
       "      <td>123859.817571</td>\n",
       "      <td>176668.266923</td>\n",
       "      <td>0.891720</td>\n",
       "      <td>0.853558</td>\n",
       "      <td>0.606971</td>\n",
       "      <td>176668.266923</td>\n",
       "      <td>248679.788766</td>\n",
       "      <td>133461.353817</td>\n",
       "    </tr>\n",
       "    <tr>\n",
       "      <th>4192</th>\n",
       "      <td>4.465280</td>\n",
       "      <td>60.777372</td>\n",
       "      <td>0.029714</td>\n",
       "      <td>0.835469</td>\n",
       "      <td>0.263071</td>\n",
       "      <td>0.092549</td>\n",
       "      <td>272683.629381</td>\n",
       "      <td>191070.571291</td>\n",
       "      <td>229476.716275</td>\n",
       "      <td>0.760832</td>\n",
       "      <td>...</td>\n",
       "      <td>0.386900</td>\n",
       "      <td>263082.093135</td>\n",
       "      <td>311089.774364</td>\n",
       "      <td>143062.890062</td>\n",
       "      <td>0.648395</td>\n",
       "      <td>0.097606</td>\n",
       "      <td>0.086182</td>\n",
       "      <td>243879.020643</td>\n",
       "      <td>200672.107537</td>\n",
       "      <td>167066.730677</td>\n",
       "    </tr>\n",
       "    <tr>\n",
       "      <th>4193</th>\n",
       "      <td>4.518400</td>\n",
       "      <td>15.873626</td>\n",
       "      <td>-0.123669</td>\n",
       "      <td>0.864876</td>\n",
       "      <td>0.391663</td>\n",
       "      <td>0.272207</td>\n",
       "      <td>248679.788766</td>\n",
       "      <td>176668.266923</td>\n",
       "      <td>133461.353817</td>\n",
       "      <td>0.891709</td>\n",
       "      <td>...</td>\n",
       "      <td>0.163421</td>\n",
       "      <td>176668.266923</td>\n",
       "      <td>263082.093135</td>\n",
       "      <td>138262.121940</td>\n",
       "      <td>0.748400</td>\n",
       "      <td>0.716555</td>\n",
       "      <td>0.707615</td>\n",
       "      <td>267882.861258</td>\n",
       "      <td>282285.165627</td>\n",
       "      <td>253480.556889</td>\n",
       "    </tr>\n",
       "  </tbody>\n",
       "</table>\n",
       "<p>5 rows × 219 columns</p>\n",
       "</div>"
      ],
      "text/plain": [
       "          mean       kurt      skew   Int 0-1   Int 0-2   Int 0-3  \\\n",
       "4189  4.446347  23.956541 -0.017274  0.625645  0.222914  0.216992   \n",
       "4190  4.413793  28.942916  0.161954  0.684737  0.208356  0.201299   \n",
       "4191  4.607200   9.986985  0.142006  0.805306  0.301255  0.296610   \n",
       "4192  4.465280  60.777372  0.029714  0.835469  0.263071  0.092549   \n",
       "4193  4.518400  15.873626 -0.123669  0.864876  0.391663  0.272207   \n",
       "\n",
       "           Freq 0-1       Freq 0-2       Freq 0-3   Int 1-1      ...        \\\n",
       "4189  277484.397504  195871.339414  239078.252520  0.720294      ...         \n",
       "4190  263082.093135  234277.484398  335093.614978  0.738498      ...         \n",
       "4191  248679.788766  383101.296207  186269.803169  0.656493      ...         \n",
       "4192  272683.629381  191070.571291  229476.716275  0.760832      ...         \n",
       "4193  248679.788766  176668.266923  133461.353817  0.891709      ...         \n",
       "\n",
       "      Int 34-3      Freq 34-1      Freq 34-2      Freq 34-3  Int 35-1  \\\n",
       "4189  0.395592  263082.093135  181469.035046  296687.469995  0.925899   \n",
       "4190  0.252509  253480.556889  186269.803169  147863.658185  0.729890   \n",
       "4191  0.202645  267882.861258  123859.817571  176668.266923  0.891720   \n",
       "4192  0.386900  263082.093135  311089.774364  143062.890062  0.648395   \n",
       "4193  0.163421  176668.266923  263082.093135  138262.121940  0.748400   \n",
       "\n",
       "      Int 35-2  Int 35-3      Freq 35-1      Freq 35-2      Freq 35-3  \n",
       "4189  0.110811  0.079016  263082.093135  191070.571291  219875.180029  \n",
       "4190  0.704327  0.411912   99855.976956  253480.556889  181469.035046  \n",
       "4191  0.853558  0.606971  176668.266923  248679.788766  133461.353817  \n",
       "4192  0.097606  0.086182  243879.020643  200672.107537  167066.730677  \n",
       "4193  0.716555  0.707615  267882.861258  282285.165627  253480.556889  \n",
       "\n",
       "[5 rows x 219 columns]"
      ]
     },
     "execution_count": 29,
     "metadata": {},
     "output_type": "execute_result"
    }
   ],
   "source": [
    "X_train.tail()"
   ]
  },
  {
   "cell_type": "code",
   "execution_count": 88,
   "metadata": {},
   "outputs": [],
   "source": [
    "#X_train.isnull().sum()"
   ]
  },
  {
   "cell_type": "code",
   "execution_count": 89,
   "metadata": {},
   "outputs": [],
   "source": [
    "#y_train.head()"
   ]
  },
  {
   "cell_type": "code",
   "execution_count": 32,
   "metadata": {},
   "outputs": [],
   "source": [
    "#scaling data\n",
    "scaler = StandardScaler()\n",
    "scaler.fit(X_train)\n",
    "scaled_train_X = pd.DataFrame(scaler.transform(X_train), columns=X_train.columns)"
   ]
  },
  {
   "cell_type": "code",
   "execution_count": 33,
   "metadata": {
    "scrolled": false
   },
   "outputs": [],
   "source": [
    "#scaled_train_X.head(10)"
   ]
  },
  {
   "cell_type": "code",
   "execution_count": 34,
   "metadata": {},
   "outputs": [],
   "source": [
    "#scaled_train_X.isnull().sum()"
   ]
  },
  {
   "cell_type": "markdown",
   "metadata": {},
   "source": [
    "# CROSS VALIDATION"
   ]
  },
  {
   "cell_type": "code",
   "execution_count": 82,
   "metadata": {},
   "outputs": [
    {
     "name": "stdout",
     "output_type": "stream",
     "text": [
      "(3355, 219) (3355,)\n",
      "(839, 219) (839,)\n"
     ]
    }
   ],
   "source": [
    "# create training and testing vars\n",
    "X_tra, X_te, y_tra, y_te = train_test_split(scaled_train_X, y_train.values.flatten(), test_size=0.2)\n",
    "#checking size data \n",
    "print(X_tra.shape, y_tra.shape)\n",
    "print(X_te.shape, y_te.shape)"
   ]
  },
  {
   "cell_type": "code",
   "execution_count": 91,
   "metadata": {},
   "outputs": [],
   "source": [
    "#fit model\n",
    "#svm = NuSVR()\n",
    "svm=NuSVR(nu=0.5, kernel='rbf', gamma='scale',max_iter=-1)\n",
    "model=svm.fit(X_tra, y_tra)\n",
    "y_preda = svm.predict(X_te)\n"
   ]
  },
  {
   "cell_type": "code",
   "execution_count": 92,
   "metadata": {},
   "outputs": [
    {
     "name": "stdout",
     "output_type": "stream",
     "text": [
      "Score: 2.340600391681378\n"
     ]
    }
   ],
   "source": [
    "scores = mean_absolute_error(y_preda, y_te)\n",
    "print(f'Score:', scores)"
   ]
  },
  {
   "cell_type": "markdown",
   "metadata": {},
   "source": [
    "# SVR- considering  complete data"
   ]
  },
  {
   "cell_type": "code",
   "execution_count": 99,
   "metadata": {},
   "outputs": [],
   "source": [
    "#svm = NuSVR(nu=0.8, kernel='poly', max_iter=-1)\n",
    "svm = NuSVR(nu=0.8, kernel='rbf', gamma='scale',max_iter=-1)\n",
    "svm.fit(scaled_train_X, y_train.values.flatten())\n",
    "y_pred = svm.predict(scaled_train_X)"
   ]
  },
  {
   "cell_type": "code",
   "execution_count": 100,
   "metadata": {},
   "outputs": [
    {
     "name": "stdout",
     "output_type": "stream",
     "text": [
      "Score: 1.752\n"
     ]
    }
   ],
   "source": [
    "score = mean_absolute_error(y_train.values.flatten(), y_pred)\n",
    "print(f'Score: {score:0.3f}')"
   ]
  },
  {
   "cell_type": "code",
   "execution_count": 102,
   "metadata": {},
   "outputs": [],
   "source": [
    "#creating submission file\n",
    "\n",
    "submission = pd.read_csv('sample_submission.csv', index_col='seg_id')\n",
    "test_X = pd.DataFrame(columns=X_train.columns, dtype=np.float64, index=submission.index)"
   ]
  },
  {
   "cell_type": "code",
   "execution_count": 103,
   "metadata": {},
   "outputs": [
    {
     "data": {
      "text/plain": [
       "((2624, 1), (2624, 219))"
      ]
     },
     "execution_count": 103,
     "metadata": {},
     "output_type": "execute_result"
    }
   ],
   "source": [
    "submission.shape, test_X.shape"
   ]
  },
  {
   "cell_type": "code",
   "execution_count": 40,
   "metadata": {},
   "outputs": [],
   "source": [
    "#test_X.head"
   ]
  },
  {
   "cell_type": "code",
   "execution_count": 104,
   "metadata": {},
   "outputs": [
    {
     "data": {
      "application/vnd.jupyter.widget-view+json": {
       "model_id": "7fab8f14b2e6414f97fede0049f25b21",
       "version_major": 2,
       "version_minor": 0
      },
      "text/plain": [
       "HBox(children=(IntProgress(value=0, max=2624), HTML(value='')))"
      ]
     },
     "metadata": {},
     "output_type": "display_data"
    }
   ],
   "source": [
    "## DOUBLE CHECK\n",
    "#PATH='C:\\\\Users\\\\John\\\\Desktop\\\\Data Books\\\\LanL Earthquake competition\\\\test'\n",
    "PATH='C:\\\\Users\\\\John\\\\Desktop\\\\Data Books\\\\LanL Earthquake competition\\\\test\\\\'\n",
    "#PATH='C:\\\\Users\\\\John\\\\Desktop\\\\Data Books\\\\LanL Earthquake competition\\\\test'\n",
    "\n",
    "for seg_id in tqdm_notebook(test_X.index):\n",
    "    seg = pd.read_csv( PATH + seg_id + '.csv')\n",
    "    create_features(seg_id, seg, test_X)"
   ]
  },
  {
   "cell_type": "code",
   "execution_count": null,
   "metadata": {},
   "outputs": [],
   "source": [
    "#test_X.shape\n",
    "        "
   ]
  },
  {
   "cell_type": "code",
   "execution_count": null,
   "metadata": {},
   "outputs": [],
   "source": [
    "#test_X.tail()"
   ]
  },
  {
   "cell_type": "code",
   "execution_count": 105,
   "metadata": {},
   "outputs": [],
   "source": [
    "scaled_test_X = pd.DataFrame(scaler.transform(test_X), columns=test_X.columns)"
   ]
  },
  {
   "cell_type": "code",
   "execution_count": 106,
   "metadata": {},
   "outputs": [
    {
     "data": {
      "text/plain": [
       "(2624, 219)"
      ]
     },
     "execution_count": 106,
     "metadata": {},
     "output_type": "execute_result"
    }
   ],
   "source": [
    "scaled_test_X.shape"
   ]
  },
  {
   "cell_type": "code",
   "execution_count": 107,
   "metadata": {},
   "outputs": [],
   "source": [
    "submission['time_to_failure'] = svm.predict(scaled_test_X)\n",
    "submission.to_csv('submissionb.csv')"
   ]
  }
 ],
 "metadata": {
  "kernelspec": {
   "display_name": "Python 3",
   "language": "python",
   "name": "python3"
  },
  "language_info": {
   "codemirror_mode": {
    "name": "ipython",
    "version": 3
   },
   "file_extension": ".py",
   "mimetype": "text/x-python",
   "name": "python",
   "nbconvert_exporter": "python",
   "pygments_lexer": "ipython3",
   "version": "3.6.5"
  }
 },
 "nbformat": 4,
 "nbformat_minor": 2
}
